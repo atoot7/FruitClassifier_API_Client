{
 "cells": [
  {
   "cell_type": "markdown",
   "id": "ac06f7c2",
   "metadata": {
    "id": "jg4sc8GDRYOX",
    "papermill": {
     "duration": 0.009504,
     "end_time": "2022-09-10T19:20:22.584901",
     "exception": false,
     "start_time": "2022-09-10T19:20:22.575397",
     "status": "completed"
    },
    "tags": []
   },
   "source": [
    "# Training our Fruit Classifer"
   ]
  },
  {
   "cell_type": "code",
   "execution_count": 1,
   "id": "5b0dd733",
   "metadata": {
    "execution": {
     "iopub.execute_input": "2022-09-10T19:20:22.598503Z",
     "iopub.status.busy": "2022-09-10T19:20:22.598013Z",
     "iopub.status.idle": "2022-09-10T19:20:22.608791Z",
     "shell.execute_reply": "2022-09-10T19:20:22.607598Z"
    },
    "papermill": {
     "duration": 0.020288,
     "end_time": "2022-09-10T19:20:22.611120",
     "exception": false,
     "start_time": "2022-09-10T19:20:22.590832",
     "status": "completed"
    },
    "tags": []
   },
   "outputs": [],
   "source": [
    "# This Python 3 environment comes with many helpful analytics libraries installed\n",
    "# It is defined by the kaggle/python Docker image: https://github.com/kaggle/docker-python\n",
    "# For example, here's several helpful packages to load\n",
    "\n",
    "import numpy as np # linear algebra\n",
    "import pandas as pd # data processing, CSV file I/O (e.g. pd.read_csv)\n",
    "\n",
    "# Input data files are available in the read-only \"../input/\" directory\n",
    "# For example, running this (by clicking run or pressing Shift+Enter) will list all files under the input directory\n",
    "\n",
    "import os\n",
    "#for dirname, _, filenames in os.walk('/kaggle/input'):\n",
    " #   for filename in filenames:\n",
    "  #      print(os.path.join(dirname, filename))\n",
    "\n",
    "# You can write up to 20GB to the current directory (/kaggle/working/) that gets preserved as output when you create a version using \"Save & Run All\" \n",
    "# You can also write temporary files to /kaggle/temp/, but they won't be saved outside of the current session\n"
   ]
  },
  {
   "cell_type": "code",
   "execution_count": 2,
   "id": "6c365176",
   "metadata": {
    "execution": {
     "iopub.execute_input": "2022-09-10T19:20:22.624883Z",
     "iopub.status.busy": "2022-09-10T19:20:22.624393Z",
     "iopub.status.idle": "2022-09-10T19:20:29.324907Z",
     "shell.execute_reply": "2022-09-10T19:20:29.323715Z"
    },
    "papermill": {
     "duration": 6.710905,
     "end_time": "2022-09-10T19:20:29.328026",
     "exception": false,
     "start_time": "2022-09-10T19:20:22.617121",
     "status": "completed"
    },
    "tags": []
   },
   "outputs": [
    {
     "name": "stdout",
     "output_type": "stream",
     "text": [
      "2.6.4\n",
      "2.6.0\n"
     ]
    }
   ],
   "source": [
    "import tensorflow as tf; print(tf.__version__)\n",
    "import keras; print(keras.__version__)"
   ]
  },
  {
   "cell_type": "code",
   "execution_count": 3,
   "id": "4293b188",
   "metadata": {
    "execution": {
     "iopub.execute_input": "2022-09-10T19:20:29.342573Z",
     "iopub.status.busy": "2022-09-10T19:20:29.341561Z",
     "iopub.status.idle": "2022-09-10T19:20:42.761019Z",
     "shell.execute_reply": "2022-09-10T19:20:42.760106Z"
    },
    "id": "uW8dKXPhRYOb",
    "outputId": "b05124e0-66a5-4d17-ac8b-87df6de958ef",
    "papermill": {
     "duration": 13.429513,
     "end_time": "2022-09-10T19:20:42.763923",
     "exception": false,
     "start_time": "2022-09-10T19:20:29.334410",
     "status": "completed"
    },
    "tags": []
   },
   "outputs": [
    {
     "name": "stdout",
     "output_type": "stream",
     "text": [
      "Found 67692 images belonging to 131 classes.\n",
      "Found 22688 images belonging to 131 classes.\n"
     ]
    }
   ],
   "source": [
    "from __future__ import print_function\n",
    "import keras\n",
    "from keras.preprocessing.image import ImageDataGenerator\n",
    "from keras.models import Sequential\n",
    "from keras.layers import Dense, Dropout, Activation, Flatten\n",
    "from keras.layers import Conv2D, MaxPooling2D\n",
    "import os\n",
    "\n",
    "num_classes = 131\n",
    "img_rows, img_cols = 32, 32\n",
    "batch_size = 1024\n",
    "\n",
    "from keras.preprocessing.image import ImageDataGenerator\n",
    "\n",
    "train_data_dir = '/kaggle/input/fruits/fruits-360_dataset/fruits-360/Training/'\n",
    "validation_data_dir = '/kaggle/input/fruits/fruits-360_dataset/fruits-360/Test/'\n",
    "\n",
    "# Let's use some data augmentaiton \n",
    "train_datagen = ImageDataGenerator(\n",
    "      rescale=1./255,\n",
    "      #rotation_range=30,\n",
    "      width_shift_range=0.3,\n",
    "      height_shift_range=0.3,\n",
    "      horizontal_flip=True\n",
    "#    ,fill_mode='nearest'\n",
    ")\n",
    " \n",
    "validation_datagen = ImageDataGenerator(rescale=1./255)\n",
    " \n",
    "#Training Data    \n",
    "train_generator = train_datagen.flow_from_directory(\n",
    "        train_data_dir,\n",
    "        target_size=(img_rows, img_cols),\n",
    "        batch_size=batch_size,\n",
    "        class_mode='categorical',\n",
    "        shuffle=True)\n",
    "#Validation Data\n",
    "validation_generator = validation_datagen.flow_from_directory(\n",
    "        validation_data_dir,\n",
    "        target_size=(img_rows, img_cols),\n",
    "        batch_size=batch_size,\n",
    "        class_mode='categorical',\n",
    "        shuffle=False)\n"
   ]
  },
  {
   "cell_type": "code",
   "execution_count": 4,
   "id": "8bb2a3ce",
   "metadata": {
    "execution": {
     "iopub.execute_input": "2022-09-10T19:20:42.778306Z",
     "iopub.status.busy": "2022-09-10T19:20:42.777896Z",
     "iopub.status.idle": "2022-09-10T19:20:42.784467Z",
     "shell.execute_reply": "2022-09-10T19:20:42.783727Z"
    },
    "papermill": {
     "duration": 0.015904,
     "end_time": "2022-09-10T19:20:42.786487",
     "exception": false,
     "start_time": "2022-09-10T19:20:42.770583",
     "status": "completed"
    },
    "tags": []
   },
   "outputs": [],
   "source": [
    "from tensorflow.keras import regularizers\n",
    "from tensorflow.keras.models import Sequential\n",
    "from tensorflow.keras.layers import Conv2D,MaxPool2D,Flatten,Dense,Dropout,BatchNormalization"
   ]
  },
  {
   "cell_type": "markdown",
   "id": "d071b1b7",
   "metadata": {
    "id": "gpmvr1dNRYOd",
    "papermill": {
     "duration": 0.005813,
     "end_time": "2022-09-10T19:20:42.798731",
     "exception": false,
     "start_time": "2022-09-10T19:20:42.792918",
     "status": "completed"
    },
    "tags": []
   },
   "source": [
    "### Let's define our model"
   ]
  },
  {
   "cell_type": "code",
   "execution_count": 5,
   "id": "5f565723",
   "metadata": {
    "execution": {
     "iopub.execute_input": "2022-09-10T19:20:42.813166Z",
     "iopub.status.busy": "2022-09-10T19:20:42.812222Z",
     "iopub.status.idle": "2022-09-10T19:20:42.991263Z",
     "shell.execute_reply": "2022-09-10T19:20:42.989844Z"
    },
    "id": "PHE9KJ4ZRYOd",
    "papermill": {
     "duration": 0.189321,
     "end_time": "2022-09-10T19:20:42.994166",
     "exception": false,
     "start_time": "2022-09-10T19:20:42.804845",
     "status": "completed"
    },
    "tags": []
   },
   "outputs": [
    {
     "name": "stdout",
     "output_type": "stream",
     "text": [
      "Model: \"sequential\"\n",
      "_________________________________________________________________\n",
      "Layer (type)                 Output Shape              Param #   \n",
      "=================================================================\n",
      "conv2d (Conv2D)              (None, 30, 30, 32)        896       \n",
      "_________________________________________________________________\n",
      "max_pooling2d (MaxPooling2D) (None, 15, 15, 32)        0         \n",
      "_________________________________________________________________\n",
      "dropout (Dropout)            (None, 15, 15, 32)        0         \n",
      "_________________________________________________________________\n",
      "conv2d_1 (Conv2D)            (None, 13, 13, 32)        9248      \n",
      "_________________________________________________________________\n",
      "max_pooling2d_1 (MaxPooling2 (None, 6, 6, 32)          0         \n",
      "_________________________________________________________________\n",
      "dropout_1 (Dropout)          (None, 6, 6, 32)          0         \n",
      "_________________________________________________________________\n",
      "flatten (Flatten)            (None, 1152)              0         \n",
      "_________________________________________________________________\n",
      "dense (Dense)                (None, 512)               590336    \n",
      "_________________________________________________________________\n",
      "dense_1 (Dense)              (None, 131)               67203     \n",
      "=================================================================\n",
      "Total params: 667,683\n",
      "Trainable params: 667,683\n",
      "Non-trainable params: 0\n",
      "_________________________________________________________________\n"
     ]
    },
    {
     "name": "stderr",
     "output_type": "stream",
     "text": [
      "2022-09-10 19:20:42.854021: I tensorflow/core/common_runtime/process_util.cc:146] Creating new thread pool with default inter op setting: 2. Tune using inter_op_parallelism_threads for best performance.\n"
     ]
    }
   ],
   "source": [
    "model = Sequential()\n",
    "model.add(Conv2D(32,(3,3),input_shape = (img_rows,img_cols,3)))\n",
    "model.add(MaxPool2D(pool_size=(2,2)))\n",
    "model.add(Dropout(0.1))\n",
    "\n",
    "model.add(Conv2D(32,(3,3),activation='relu'))\n",
    "model.add(MaxPool2D(pool_size=(2,2)))\n",
    "model.add(Dropout(0.1))\n",
    "\n",
    "\n",
    "model.add(Flatten())\n",
    "model.add(Dense(units=512,activation='relu'))\n",
    "model.add(Dense(units=131,activation='softmax'))\n",
    "\n",
    "model.summary()"
   ]
  },
  {
   "cell_type": "code",
   "execution_count": 6,
   "id": "2f2d88b3",
   "metadata": {
    "execution": {
     "iopub.execute_input": "2022-09-10T19:20:43.008903Z",
     "iopub.status.busy": "2022-09-10T19:20:43.007884Z",
     "iopub.status.idle": "2022-09-10T19:20:43.189079Z",
     "shell.execute_reply": "2022-09-10T19:20:43.188100Z"
    },
    "id": "S79gNvEdRYOe",
    "outputId": "235a9800-5e41-4efb-d70d-0c3a18a3ea4d",
    "papermill": {
     "duration": 0.191267,
     "end_time": "2022-09-10T19:20:43.191731",
     "exception": false,
     "start_time": "2022-09-10T19:20:43.000464",
     "status": "completed"
    },
    "tags": []
   },
   "outputs": [],
   "source": [
    "# We use a very small learning rate\n",
    "#opt = tf.keras.optimizers.RMSprop(\n",
    " #   learning_rate=0.0001,\n",
    "  #  name=\"rmsprop\"\n",
    "#)\n",
    "model.compile(loss = 'categorical_crossentropy',\n",
    "              optimizer = 'adam',\n",
    "              metrics = ['accuracy'])\n",
    "\n",
    "nb_train_samples = 67692\n",
    "nb_validation_samples = 22688\n",
    "epochs = 50"
   ]
  },
  {
   "cell_type": "code",
   "execution_count": 7,
   "id": "f9257f8d",
   "metadata": {
    "execution": {
     "iopub.execute_input": "2022-09-10T19:20:43.206330Z",
     "iopub.status.busy": "2022-09-10T19:20:43.205921Z",
     "iopub.status.idle": "2022-09-10T21:33:15.417959Z",
     "shell.execute_reply": "2022-09-10T21:33:15.416225Z"
    },
    "papermill": {
     "duration": 7952.50224,
     "end_time": "2022-09-10T21:33:15.700830",
     "exception": false,
     "start_time": "2022-09-10T19:20:43.198590",
     "status": "completed"
    },
    "tags": []
   },
   "outputs": [
    {
     "name": "stderr",
     "output_type": "stream",
     "text": [
      "/opt/conda/lib/python3.7/site-packages/keras/engine/training.py:1972: UserWarning: `Model.fit_generator` is deprecated and will be removed in a future version. Please use `Model.fit`, which supports generators.\n",
      "  warnings.warn('`Model.fit_generator` is deprecated and '\n",
      "2022-09-10 19:20:52.539140: I tensorflow/compiler/mlir/mlir_graph_optimization_pass.cc:185] None of the MLIR Optimization Passes are enabled (registered 2)\n"
     ]
    },
    {
     "name": "stdout",
     "output_type": "stream",
     "text": [
      "Epoch 1/50\n",
      "66/66 [==============================] - 741s 11s/step - loss: 3.6898 - accuracy: 0.1194 - val_loss: 2.5926 - val_accuracy: 0.2614\n",
      "Epoch 2/50\n",
      "66/66 [==============================] - 141s 2s/step - loss: 1.9488 - accuracy: 0.4298 - val_loss: 1.3423 - val_accuracy: 0.6023\n",
      "Epoch 3/50\n",
      "66/66 [==============================] - 139s 2s/step - loss: 1.2287 - accuracy: 0.6225 - val_loss: 1.0176 - val_accuracy: 0.7140\n",
      "Epoch 4/50\n",
      "66/66 [==============================] - 140s 2s/step - loss: 0.9353 - accuracy: 0.7075 - val_loss: 0.8303 - val_accuracy: 0.7611\n",
      "Epoch 5/50\n",
      "66/66 [==============================] - 139s 2s/step - loss: 0.7598 - accuracy: 0.7582 - val_loss: 0.7000 - val_accuracy: 0.8049\n",
      "Epoch 6/50\n",
      "66/66 [==============================] - 140s 2s/step - loss: 0.6442 - accuracy: 0.7924 - val_loss: 0.6946 - val_accuracy: 0.7962\n",
      "Epoch 7/50\n",
      "66/66 [==============================] - 140s 2s/step - loss: 0.5581 - accuracy: 0.8164 - val_loss: 0.6745 - val_accuracy: 0.8134\n",
      "Epoch 8/50\n",
      "66/66 [==============================] - 141s 2s/step - loss: 0.4999 - accuracy: 0.8358 - val_loss: 0.5580 - val_accuracy: 0.8283\n",
      "Epoch 9/50\n",
      "66/66 [==============================] - 141s 2s/step - loss: 0.4374 - accuracy: 0.8551 - val_loss: 0.5416 - val_accuracy: 0.8414\n",
      "Epoch 10/50\n",
      "66/66 [==============================] - 141s 2s/step - loss: 0.4088 - accuracy: 0.8646 - val_loss: 0.5099 - val_accuracy: 0.8656\n",
      "Epoch 11/50\n",
      "66/66 [==============================] - 140s 2s/step - loss: 0.3631 - accuracy: 0.8795 - val_loss: 0.4826 - val_accuracy: 0.8671\n",
      "Epoch 12/50\n",
      "66/66 [==============================] - 140s 2s/step - loss: 0.3539 - accuracy: 0.8811 - val_loss: 0.4643 - val_accuracy: 0.8748\n",
      "Epoch 13/50\n",
      "66/66 [==============================] - 140s 2s/step - loss: 0.3182 - accuracy: 0.8929 - val_loss: 0.4145 - val_accuracy: 0.8794\n",
      "Epoch 14/50\n",
      "66/66 [==============================] - 139s 2s/step - loss: 0.3001 - accuracy: 0.9001 - val_loss: 0.4193 - val_accuracy: 0.8819\n",
      "Epoch 15/50\n",
      "66/66 [==============================] - 140s 2s/step - loss: 0.2700 - accuracy: 0.9094 - val_loss: 0.3776 - val_accuracy: 0.8914\n",
      "Epoch 16/50\n",
      "66/66 [==============================] - 140s 2s/step - loss: 0.2628 - accuracy: 0.9117 - val_loss: 0.4486 - val_accuracy: 0.8846\n",
      "Epoch 17/50\n",
      "66/66 [==============================] - 140s 2s/step - loss: 0.2442 - accuracy: 0.9176 - val_loss: 0.3767 - val_accuracy: 0.8965\n",
      "Epoch 18/50\n",
      "66/66 [==============================] - 139s 2s/step - loss: 0.2386 - accuracy: 0.9202 - val_loss: 0.3514 - val_accuracy: 0.9042\n",
      "Epoch 19/50\n",
      "66/66 [==============================] - 139s 2s/step - loss: 0.2148 - accuracy: 0.9276 - val_loss: 0.3272 - val_accuracy: 0.9134\n",
      "Epoch 20/50\n",
      "66/66 [==============================] - 142s 2s/step - loss: 0.2067 - accuracy: 0.9298 - val_loss: 0.3260 - val_accuracy: 0.9084\n",
      "Epoch 21/50\n",
      "66/66 [==============================] - 140s 2s/step - loss: 0.2141 - accuracy: 0.9278 - val_loss: 0.3002 - val_accuracy: 0.9161\n",
      "Epoch 22/50\n",
      "66/66 [==============================] - 139s 2s/step - loss: 0.1948 - accuracy: 0.9339 - val_loss: 0.3513 - val_accuracy: 0.9023\n",
      "Epoch 23/50\n",
      "66/66 [==============================] - 139s 2s/step - loss: 0.1806 - accuracy: 0.9387 - val_loss: 0.3257 - val_accuracy: 0.9152\n",
      "Epoch 24/50\n",
      "66/66 [==============================] - 140s 2s/step - loss: 0.1783 - accuracy: 0.9388 - val_loss: 0.3240 - val_accuracy: 0.9208\n",
      "Epoch 25/50\n",
      "66/66 [==============================] - 140s 2s/step - loss: 0.1653 - accuracy: 0.9446 - val_loss: 0.3438 - val_accuracy: 0.9167\n",
      "Epoch 26/50\n",
      "66/66 [==============================] - 140s 2s/step - loss: 0.1652 - accuracy: 0.9435 - val_loss: 0.3396 - val_accuracy: 0.9181\n",
      "Epoch 27/50\n",
      "66/66 [==============================] - 139s 2s/step - loss: 0.1732 - accuracy: 0.9413 - val_loss: 0.3032 - val_accuracy: 0.9207\n",
      "Epoch 28/50\n",
      "66/66 [==============================] - 139s 2s/step - loss: 0.1531 - accuracy: 0.9486 - val_loss: 0.3543 - val_accuracy: 0.9147\n",
      "Epoch 29/50\n",
      "66/66 [==============================] - 140s 2s/step - loss: 0.1473 - accuracy: 0.9506 - val_loss: 0.2998 - val_accuracy: 0.9333\n",
      "Epoch 30/50\n",
      "66/66 [==============================] - 139s 2s/step - loss: 0.1630 - accuracy: 0.9443 - val_loss: 0.2894 - val_accuracy: 0.9250\n",
      "Epoch 31/50\n",
      "66/66 [==============================] - 139s 2s/step - loss: 0.1361 - accuracy: 0.9529 - val_loss: 0.2898 - val_accuracy: 0.9292\n",
      "Epoch 32/50\n",
      "66/66 [==============================] - 140s 2s/step - loss: 0.1341 - accuracy: 0.9543 - val_loss: 0.2842 - val_accuracy: 0.9291\n",
      "Epoch 33/50\n",
      "66/66 [==============================] - 142s 2s/step - loss: 0.1267 - accuracy: 0.9575 - val_loss: 0.2490 - val_accuracy: 0.9326\n",
      "Epoch 34/50\n",
      "66/66 [==============================] - 141s 2s/step - loss: 0.1205 - accuracy: 0.9587 - val_loss: 0.2753 - val_accuracy: 0.9330\n",
      "Epoch 35/50\n",
      "66/66 [==============================] - 141s 2s/step - loss: 0.1444 - accuracy: 0.9516 - val_loss: 0.2793 - val_accuracy: 0.9318\n",
      "Epoch 36/50\n",
      "66/66 [==============================] - 141s 2s/step - loss: 0.1152 - accuracy: 0.9608 - val_loss: 0.2521 - val_accuracy: 0.9439\n",
      "Epoch 37/50\n",
      "66/66 [==============================] - 139s 2s/step - loss: 0.1110 - accuracy: 0.9623 - val_loss: 0.2641 - val_accuracy: 0.9350\n",
      "Epoch 38/50\n",
      "66/66 [==============================] - 143s 2s/step - loss: 0.1144 - accuracy: 0.9608 - val_loss: 0.2977 - val_accuracy: 0.9345\n",
      "Epoch 39/50\n",
      "66/66 [==============================] - 141s 2s/step - loss: 0.1049 - accuracy: 0.9643 - val_loss: 0.2663 - val_accuracy: 0.9362\n",
      "Epoch 40/50\n",
      "66/66 [==============================] - 142s 2s/step - loss: 0.1082 - accuracy: 0.9627 - val_loss: 0.2770 - val_accuracy: 0.9360\n",
      "Epoch 41/50\n",
      "66/66 [==============================] - 142s 2s/step - loss: 0.1069 - accuracy: 0.9642 - val_loss: 0.2428 - val_accuracy: 0.9463\n",
      "Epoch 42/50\n",
      "66/66 [==============================] - 142s 2s/step - loss: 0.1018 - accuracy: 0.9663 - val_loss: 0.2199 - val_accuracy: 0.9522\n",
      "Epoch 43/50\n",
      "66/66 [==============================] - 142s 2s/step - loss: 0.1029 - accuracy: 0.9654 - val_loss: 0.2125 - val_accuracy: 0.9501\n",
      "Epoch 44/50\n",
      "66/66 [==============================] - 143s 2s/step - loss: 0.0946 - accuracy: 0.9681 - val_loss: 0.2342 - val_accuracy: 0.9438\n",
      "Epoch 45/50\n",
      "66/66 [==============================] - 142s 2s/step - loss: 0.0941 - accuracy: 0.9679 - val_loss: 0.2355 - val_accuracy: 0.9498\n",
      "Epoch 46/50\n",
      "66/66 [==============================] - 142s 2s/step - loss: 0.1030 - accuracy: 0.9644 - val_loss: 0.2421 - val_accuracy: 0.9494\n",
      "Epoch 47/50\n",
      "66/66 [==============================] - 141s 2s/step - loss: 0.0958 - accuracy: 0.9679 - val_loss: 0.2746 - val_accuracy: 0.9288\n",
      "Epoch 48/50\n",
      "66/66 [==============================] - 140s 2s/step - loss: 0.0889 - accuracy: 0.9695 - val_loss: 0.2457 - val_accuracy: 0.9482\n",
      "Epoch 49/50\n",
      "66/66 [==============================] - 140s 2s/step - loss: 0.0890 - accuracy: 0.9695 - val_loss: 0.2481 - val_accuracy: 0.9432\n",
      "Epoch 50/50\n",
      "66/66 [==============================] - 167s 3s/step - loss: 0.0831 - accuracy: 0.9721 - val_loss: 0.2698 - val_accuracy: 0.9484\n"
     ]
    }
   ],
   "source": [
    "history = model.fit_generator(\n",
    "    train_generator,\n",
    "    steps_per_epoch = 67692 // batch_size,\n",
    "    epochs = epochs,\n",
    "    validation_data = validation_generator,\n",
    "    validation_steps = 22688 // batch_size)\n",
    "\n",
    "model.save('fruit_classifier.h5')\n",
    "\n",
    "import pickle\n",
    "pickle_out = open('fruit_classifier.pkl','wb')\n",
    "pickle.dump(history.history,pickle_out)\n",
    "pickle_out.close()"
   ]
  },
  {
   "cell_type": "code",
   "execution_count": 8,
   "id": "3fdd2fab",
   "metadata": {
    "execution": {
     "iopub.execute_input": "2022-09-10T21:33:16.144038Z",
     "iopub.status.busy": "2022-09-10T21:33:16.143582Z",
     "iopub.status.idle": "2022-09-10T21:33:16.149062Z",
     "shell.execute_reply": "2022-09-10T21:33:16.148091Z"
    },
    "papermill": {
     "duration": 0.229106,
     "end_time": "2022-09-10T21:33:16.151159",
     "exception": false,
     "start_time": "2022-09-10T21:33:15.922053",
     "status": "completed"
    },
    "tags": []
   },
   "outputs": [],
   "source": [
    "\n",
    "import pickle\n",
    "pickle_in = open('fruit_classifier.pkl','rb')\n",
    "history=pickle.load(pickle_in)\n"
   ]
  },
  {
   "cell_type": "markdown",
   "id": "ca45e8fa",
   "metadata": {
    "id": "9SSxO-B0RYOf",
    "papermill": {
     "duration": 0.219393,
     "end_time": "2022-09-10T21:33:16.590593",
     "exception": false,
     "start_time": "2022-09-10T21:33:16.371200",
     "status": "completed"
    },
    "tags": []
   },
   "source": [
    "### Displaying our Confusion Matrix"
   ]
  },
  {
   "cell_type": "code",
   "execution_count": 9,
   "id": "b3deaf17",
   "metadata": {
    "execution": {
     "iopub.execute_input": "2022-09-10T21:33:17.050761Z",
     "iopub.status.busy": "2022-09-10T21:33:17.049783Z",
     "iopub.status.idle": "2022-09-10T21:33:43.211978Z",
     "shell.execute_reply": "2022-09-10T21:33:43.210766Z"
    },
    "id": "YOTQS_wjRYOf",
    "outputId": "033418d2-45c0-4294-f39e-ad6a57c806dd",
    "papermill": {
     "duration": 26.404672,
     "end_time": "2022-09-10T21:33:43.215047",
     "exception": false,
     "start_time": "2022-09-10T21:33:16.810375",
     "status": "completed"
    },
    "tags": []
   },
   "outputs": [
    {
     "name": "stderr",
     "output_type": "stream",
     "text": [
      "/opt/conda/lib/python3.7/site-packages/keras/engine/training.py:2035: UserWarning: `Model.predict_generator` is deprecated and will be removed in a future version. Please use `Model.predict`, which supports generators.\n",
      "  warnings.warn('`Model.predict_generator` is deprecated and '\n"
     ]
    },
    {
     "name": "stdout",
     "output_type": "stream",
     "text": [
      "Confusion Matrix\n",
      "[[156   0   0 ...   0   0   0]\n",
      " [  0 105   0 ...   0   0   0]\n",
      " [  0   0 160 ...   0   0   0]\n",
      " ...\n",
      " [  0   0   0 ... 156   0   0]\n",
      " [  0   0   0 ...   0 249   0]\n",
      " [  0   0   0 ...   0   0 157]]\n",
      "Classification Report\n",
      "                     precision    recall  f1-score   support\n",
      "\n",
      "     Apple Braeburn       0.69      0.95      0.80       164\n",
      " Apple Crimson Snow       0.87      0.71      0.78       148\n",
      "     Apple Golden 1       0.66      1.00      0.79       160\n",
      "     Apple Golden 2       1.00      0.76      0.86       164\n",
      "     Apple Golden 3       0.78      0.95      0.86       161\n",
      " Apple Granny Smith       1.00      1.00      1.00       164\n",
      "    Apple Pink Lady       0.99      1.00      1.00       152\n",
      "        Apple Red 1       0.82      1.00      0.90       164\n",
      "        Apple Red 2       1.00      0.66      0.80       164\n",
      "        Apple Red 3       0.85      1.00      0.92       144\n",
      "Apple Red Delicious       0.87      1.00      0.93       166\n",
      " Apple Red Yellow 1       0.91      0.91      0.91       164\n",
      " Apple Red Yellow 2       1.00      1.00      1.00       219\n",
      "            Apricot       0.86      1.00      0.93       164\n",
      "            Avocado       1.00      1.00      1.00       143\n",
      "       Avocado ripe       1.00      1.00      1.00       166\n",
      "             Banana       0.99      0.89      0.94       166\n",
      " Banana Lady Finger       0.95      1.00      0.97       152\n",
      "         Banana Red       0.92      1.00      0.96       166\n",
      "           Beetroot       0.95      0.65      0.77       150\n",
      "          Blueberry       1.00      0.99      1.00       154\n",
      "       Cactus fruit       0.80      1.00      0.89       166\n",
      "       Cantaloupe 1       1.00      0.95      0.97       164\n",
      "       Cantaloupe 2       1.00      1.00      1.00       164\n",
      "          Carambula       0.84      0.87      0.85       166\n",
      "        Cauliflower       0.90      1.00      0.95       234\n",
      "           Cherry 1       1.00      1.00      1.00       164\n",
      "           Cherry 2       1.00      0.99      1.00       246\n",
      "     Cherry Rainier       0.99      1.00      1.00       246\n",
      "   Cherry Wax Black       1.00      1.00      1.00       164\n",
      "     Cherry Wax Red       1.00      1.00      1.00       164\n",
      "  Cherry Wax Yellow       1.00      1.00      1.00       164\n",
      "           Chestnut       0.88      0.99      0.94       153\n",
      "         Clementine       1.00      1.00      1.00       166\n",
      "              Cocos       0.83      1.00      0.90       166\n",
      "               Corn       1.00      0.41      0.58       150\n",
      "          Corn Husk       1.00      0.59      0.74       154\n",
      "      Cucumber Ripe       1.00      1.00      1.00       130\n",
      "    Cucumber Ripe 2       1.00      1.00      1.00       156\n",
      "              Dates       1.00      1.00      1.00       166\n",
      "           Eggplant       1.00      0.59      0.74       156\n",
      "                Fig       1.00      1.00      1.00       234\n",
      "        Ginger Root       1.00      0.75      0.86        99\n",
      "         Granadilla       0.85      1.00      0.92       166\n",
      "         Grape Blue       1.00      1.00      1.00       328\n",
      "         Grape Pink       1.00      1.00      1.00       164\n",
      "        Grape White       1.00      1.00      1.00       166\n",
      "      Grape White 2       1.00      1.00      1.00       166\n",
      "      Grape White 3       0.93      1.00      0.96       164\n",
      "      Grape White 4       1.00      1.00      1.00       158\n",
      "    Grapefruit Pink       1.00      1.00      1.00       166\n",
      "   Grapefruit White       0.95      1.00      0.97       164\n",
      "              Guava       1.00      1.00      1.00       166\n",
      "           Hazelnut       1.00      1.00      1.00       157\n",
      "        Huckleberry       1.00      1.00      1.00       166\n",
      "               Kaki       1.00      1.00      1.00       166\n",
      "               Kiwi       1.00      0.99      0.99       156\n",
      "           Kohlrabi       1.00      0.84      0.91       157\n",
      "           Kumquats       1.00      0.84      0.92       166\n",
      "              Lemon       1.00      1.00      1.00       164\n",
      "        Lemon Meyer       1.00      1.00      1.00       166\n",
      "              Limes       1.00      1.00      1.00       166\n",
      "             Lychee       1.00      1.00      1.00       166\n",
      "          Mandarine       1.00      1.00      1.00       166\n",
      "              Mango       1.00      0.85      0.92       166\n",
      "          Mango Red       1.00      0.80      0.89       142\n",
      "          Mangostan       0.96      1.00      0.98       102\n",
      "           Maracuja       1.00      0.83      0.91       166\n",
      " Melon Piel de Sapo       1.00      1.00      1.00       246\n",
      "           Mulberry       1.00      1.00      1.00       164\n",
      "          Nectarine       0.78      0.91      0.84       164\n",
      "     Nectarine Flat       1.00      0.77      0.87       160\n",
      "         Nut Forest       0.95      1.00      0.97       218\n",
      "          Nut Pecan       0.98      0.88      0.93       178\n",
      "          Onion Red       0.82      1.00      0.90       150\n",
      "   Onion Red Peeled       1.00      0.85      0.92       155\n",
      "        Onion White       0.87      0.99      0.93       146\n",
      "             Orange       1.00      1.00      1.00       160\n",
      "             Papaya       1.00      1.00      1.00       164\n",
      "      Passion Fruit       1.00      1.00      1.00       166\n",
      "              Peach       0.88      0.91      0.90       164\n",
      "            Peach 2       0.99      1.00      0.99       246\n",
      "         Peach Flat       0.86      0.88      0.87       164\n",
      "               Pear       0.95      0.99      0.97       164\n",
      "             Pear 2       1.00      0.42      0.59       232\n",
      "         Pear Abate       0.77      0.98      0.86       166\n",
      "       Pear Forelle       1.00      1.00      1.00       234\n",
      "        Pear Kaiser       0.99      1.00      1.00       102\n",
      "       Pear Monster       0.92      0.95      0.94       166\n",
      "           Pear Red       1.00      1.00      1.00       222\n",
      "         Pear Stone       0.77      1.00      0.87       237\n",
      "      Pear Williams       0.96      1.00      0.98       166\n",
      "             Pepino       0.93      1.00      0.97       166\n",
      "       Pepper Green       0.99      1.00      0.99       148\n",
      "      Pepper Orange       1.00      0.87      0.93       234\n",
      "         Pepper Red       0.99      1.00      1.00       222\n",
      "      Pepper Yellow       0.98      1.00      0.99       222\n",
      "           Physalis       1.00      1.00      1.00       164\n",
      " Physalis with Husk       0.92      0.82      0.87       164\n",
      "          Pineapple       0.74      1.00      0.85       166\n",
      "     Pineapple Mini       0.98      1.00      0.99       163\n",
      "       Pitahaya Red       1.00      1.00      1.00       166\n",
      "               Plum       1.00      1.00      1.00       151\n",
      "             Plum 2       1.00      1.00      1.00       142\n",
      "             Plum 3       0.90      1.00      0.95       304\n",
      "        Pomegranate       1.00      1.00      1.00       164\n",
      "     Pomelo Sweetie       1.00      1.00      1.00       153\n",
      "         Potato Red       1.00      0.54      0.70       150\n",
      "  Potato Red Washed       1.00      0.77      0.87       151\n",
      "       Potato Sweet       0.70      0.96      0.81       150\n",
      "       Potato White       1.00      1.00      1.00       150\n",
      "             Quince       0.99      1.00      1.00       166\n",
      "           Rambutan       1.00      1.00      1.00       164\n",
      "          Raspberry       1.00      1.00      1.00       166\n",
      "         Redcurrant       1.00      1.00      1.00       164\n",
      "              Salak       1.00      0.91      0.95       162\n",
      "         Strawberry       1.00      1.00      1.00       164\n",
      "   Strawberry Wedge       1.00      0.85      0.92       246\n",
      "          Tamarillo       1.00      1.00      1.00       166\n",
      "            Tangelo       0.99      1.00      1.00       166\n",
      "           Tomato 1       1.00      1.00      1.00       246\n",
      "           Tomato 2       1.00      1.00      1.00       225\n",
      "           Tomato 3       0.96      1.00      0.98       246\n",
      "           Tomato 4       1.00      0.94      0.97       160\n",
      "  Tomato Cherry Red       1.00      1.00      1.00       164\n",
      "       Tomato Heart       1.00      1.00      1.00       228\n",
      "      Tomato Maroon       1.00      1.00      1.00       127\n",
      "      Tomato Yellow       1.00      1.00      1.00       153\n",
      " Tomato not Ripened       0.88      0.99      0.93       158\n",
      "             Walnut       0.99      1.00      0.99       249\n",
      "         Watermelon       0.75      1.00      0.86       157\n",
      "\n",
      "           accuracy                           0.95     22688\n",
      "          macro avg       0.96      0.95      0.94     22688\n",
      "       weighted avg       0.96      0.95      0.95     22688\n",
      "\n",
      "[  0   0   0 ... 130 130 130]\n"
     ]
    }
   ],
   "source": [
    "class_labels = validation_generator.class_indices\n",
    "class_labels = {v: k for k, v in class_labels.items()}\n",
    "classes = list(class_labels.values())\n",
    "\n",
    "from sklearn.metrics import classification_report, confusion_matrix\n",
    "\n",
    "#Confution Matrix and Classification Report\n",
    "Y_pred = model.predict_generator(validation_generator, nb_validation_samples // batch_size+1)\n",
    "y_pred = np.argmax(Y_pred, axis=1)\n",
    "print('Confusion Matrix')\n",
    "print(confusion_matrix(validation_generator.classes, y_pred))\n",
    "print('Classification Report')\n",
    "target_names = list(class_labels.values())\n",
    "print(classification_report(validation_generator.classes, y_pred, target_names=target_names))\n",
    "\n",
    "print(validation_generator.classes)"
   ]
  },
  {
   "cell_type": "code",
   "execution_count": 10,
   "id": "8dc5ef30",
   "metadata": {
    "execution": {
     "iopub.execute_input": "2022-09-10T21:33:43.658475Z",
     "iopub.status.busy": "2022-09-10T21:33:43.657934Z",
     "iopub.status.idle": "2022-09-10T21:33:43.663133Z",
     "shell.execute_reply": "2022-09-10T21:33:43.662026Z"
    },
    "papermill": {
     "duration": 0.228365,
     "end_time": "2022-09-10T21:33:43.665546",
     "exception": false,
     "start_time": "2022-09-10T21:33:43.437181",
     "status": "completed"
    },
    "tags": []
   },
   "outputs": [
    {
     "name": "stdout",
     "output_type": "stream",
     "text": [
      "['Apple Braeburn', 'Apple Crimson Snow', 'Apple Golden 1', 'Apple Golden 2', 'Apple Golden 3', 'Apple Granny Smith', 'Apple Pink Lady', 'Apple Red 1', 'Apple Red 2', 'Apple Red 3', 'Apple Red Delicious', 'Apple Red Yellow 1', 'Apple Red Yellow 2', 'Apricot', 'Avocado', 'Avocado ripe', 'Banana', 'Banana Lady Finger', 'Banana Red', 'Beetroot', 'Blueberry', 'Cactus fruit', 'Cantaloupe 1', 'Cantaloupe 2', 'Carambula', 'Cauliflower', 'Cherry 1', 'Cherry 2', 'Cherry Rainier', 'Cherry Wax Black', 'Cherry Wax Red', 'Cherry Wax Yellow', 'Chestnut', 'Clementine', 'Cocos', 'Corn', 'Corn Husk', 'Cucumber Ripe', 'Cucumber Ripe 2', 'Dates', 'Eggplant', 'Fig', 'Ginger Root', 'Granadilla', 'Grape Blue', 'Grape Pink', 'Grape White', 'Grape White 2', 'Grape White 3', 'Grape White 4', 'Grapefruit Pink', 'Grapefruit White', 'Guava', 'Hazelnut', 'Huckleberry', 'Kaki', 'Kiwi', 'Kohlrabi', 'Kumquats', 'Lemon', 'Lemon Meyer', 'Limes', 'Lychee', 'Mandarine', 'Mango', 'Mango Red', 'Mangostan', 'Maracuja', 'Melon Piel de Sapo', 'Mulberry', 'Nectarine', 'Nectarine Flat', 'Nut Forest', 'Nut Pecan', 'Onion Red', 'Onion Red Peeled', 'Onion White', 'Orange', 'Papaya', 'Passion Fruit', 'Peach', 'Peach 2', 'Peach Flat', 'Pear', 'Pear 2', 'Pear Abate', 'Pear Forelle', 'Pear Kaiser', 'Pear Monster', 'Pear Red', 'Pear Stone', 'Pear Williams', 'Pepino', 'Pepper Green', 'Pepper Orange', 'Pepper Red', 'Pepper Yellow', 'Physalis', 'Physalis with Husk', 'Pineapple', 'Pineapple Mini', 'Pitahaya Red', 'Plum', 'Plum 2', 'Plum 3', 'Pomegranate', 'Pomelo Sweetie', 'Potato Red', 'Potato Red Washed', 'Potato Sweet', 'Potato White', 'Quince', 'Rambutan', 'Raspberry', 'Redcurrant', 'Salak', 'Strawberry', 'Strawberry Wedge', 'Tamarillo', 'Tangelo', 'Tomato 1', 'Tomato 2', 'Tomato 3', 'Tomato 4', 'Tomato Cherry Red', 'Tomato Heart', 'Tomato Maroon', 'Tomato Yellow', 'Tomato not Ripened', 'Walnut', 'Watermelon']\n"
     ]
    }
   ],
   "source": [
    "print(classes)"
   ]
  },
  {
   "cell_type": "markdown",
   "id": "cbc779ce",
   "metadata": {
    "id": "UdCBE7lURYOg",
    "papermill": {
     "duration": 0.216846,
     "end_time": "2022-09-10T21:33:44.099193",
     "exception": false,
     "start_time": "2022-09-10T21:33:43.882347",
     "status": "completed"
    },
    "tags": []
   },
   "source": [
    "### Testing our fruit classifier"
   ]
  },
  {
   "cell_type": "code",
   "execution_count": 11,
   "id": "5dd7222a",
   "metadata": {
    "execution": {
     "iopub.execute_input": "2022-09-10T21:33:44.541354Z",
     "iopub.status.busy": "2022-09-10T21:33:44.540788Z",
     "iopub.status.idle": "2022-09-10T21:33:45.085833Z",
     "shell.execute_reply": "2022-09-10T21:33:45.084929Z"
    },
    "id": "wpla-EbIRYOg",
    "papermill": {
     "duration": 0.768062,
     "end_time": "2022-09-10T21:33:45.088523",
     "exception": false,
     "start_time": "2022-09-10T21:33:44.320461",
     "status": "completed"
    },
    "tags": []
   },
   "outputs": [
    {
     "name": "stdout",
     "output_type": "stream",
     "text": [
      "Prediction: Cherry Wax Red | Probability: 99.99977111816406 | 0 30\n",
      "Prediction: Watermelon | Probability: 100.0 | 0 130\n",
      "Prediction: Tomato not Ripened | Probability: 93.64568328857422 | 0 128\n",
      "Prediction: Apple Red 1 | Probability: 99.78254699707031 | 0 7\n",
      "Prediction: Pineapple Mini | Probability: 99.99998474121094 | 0 100\n",
      "[[0.0000000e+00 0.0000000e+00 0.0000000e+00 0.0000000e+00 0.0000000e+00\n",
      "  0.0000000e+00 0.0000000e+00 0.0000000e+00 0.0000000e+00 0.0000000e+00\n",
      "  0.0000000e+00 0.0000000e+00 0.0000000e+00 0.0000000e+00 0.0000000e+00\n",
      "  0.0000000e+00 0.0000000e+00 0.0000000e+00 0.0000000e+00 0.0000000e+00\n",
      "  0.0000000e+00 0.0000000e+00 0.0000000e+00 0.0000000e+00 0.0000000e+00\n",
      "  0.0000000e+00 0.0000000e+00 0.0000000e+00 0.0000000e+00 0.0000000e+00\n",
      "  0.0000000e+00 0.0000000e+00 0.0000000e+00 0.0000000e+00 0.0000000e+00\n",
      "  0.0000000e+00 0.0000000e+00 0.0000000e+00 0.0000000e+00 0.0000000e+00\n",
      "  0.0000000e+00 0.0000000e+00 0.0000000e+00 0.0000000e+00 0.0000000e+00\n",
      "  0.0000000e+00 0.0000000e+00 0.0000000e+00 0.0000000e+00 0.0000000e+00\n",
      "  0.0000000e+00 0.0000000e+00 0.0000000e+00 0.0000000e+00 0.0000000e+00\n",
      "  0.0000000e+00 0.0000000e+00 0.0000000e+00 0.0000000e+00 0.0000000e+00\n",
      "  0.0000000e+00 0.0000000e+00 0.0000000e+00 0.0000000e+00 0.0000000e+00\n",
      "  0.0000000e+00 0.0000000e+00 0.0000000e+00 0.0000000e+00 0.0000000e+00\n",
      "  0.0000000e+00 0.0000000e+00 0.0000000e+00 0.0000000e+00 0.0000000e+00\n",
      "  8.9463163e-36 4.5851007e-35 4.9308934e-35 1.1916096e-34 1.2601430e-33\n",
      "  2.4555785e-33 5.9178794e-33 1.6337918e-32 2.6338999e-32 2.9119043e-32\n",
      "  7.5123899e-32 7.7746074e-32 2.9012508e-31 3.8153681e-31 4.7468535e-31\n",
      "  7.9239924e-31 6.6989170e-30 1.9558956e-29 6.6647901e-29 8.9877716e-29\n",
      "  9.2098301e-29 9.5737544e-28 1.3558758e-27 1.8280555e-27 3.0599454e-27\n",
      "  3.8957360e-27 5.0038279e-27 7.3985647e-27 2.7832137e-26 2.9795353e-26\n",
      "  1.6232935e-24 3.1939710e-23 4.2741850e-23 5.6940428e-23 6.6466069e-23\n",
      "  1.8961670e-22 2.1777428e-22 8.8611368e-20 1.2464737e-19 1.2850945e-19\n",
      "  1.6095102e-19 1.2498453e-18 1.9492699e-18 2.4027568e-14 9.6543968e-14\n",
      "  2.9403853e-13 1.1943222e-11 2.9720615e-10 1.0305221e-09 4.2779016e-09\n",
      "  2.8144740e-08 7.5525797e-08 8.5484388e-08 1.4854775e-06 1.3954193e-05\n",
      "  9.9999985e+01]]\n"
     ]
    }
   ],
   "source": [
    "from keras.models import load_model\n",
    "model = load_model('fruit_classifier.h5')\n",
    "\n",
    "\n",
    "def print_result(result):\n",
    "    i,j = np.unravel_index(result.argmax(), result.shape)\n",
    "    print(f'Prediction: {classes[j]} | Probability: {(result[i,j])} | {i} {j}')   \n",
    "\n",
    "def predict_image_model(image_path : str) -> np.ndarray:\n",
    "    img_size = (img_rows, img_cols)\n",
    "    # load imamge into a 4D Tensor, convert it to a numpy array and expand to 4 dim\n",
    "    img1 = image.load_img(image_path, target_size = img_size)\n",
    "    image_tensor = image.img_to_array(img1)\n",
    "    #print(image_tensor.shape)\n",
    "    image_tensor = image_tensor/255\n",
    "    image_tensor = np.expand_dims(image_tensor, axis=0)\n",
    "    #print(img.shape)\n",
    "    result = model.predict(image_tensor)*100\n",
    "    return result\n",
    "\n",
    "from keras.preprocessing import image\n",
    "test_img_path_1  = '/kaggle/input/fruits/fruits-360_dataset/fruits-360/Test/Cherry Wax Red/191_100.jpg'\n",
    "test_img_path_2 = '/kaggle/input/fruits/fruits-360_dataset/fruits-360/Test/Watermelon/r_95_100.jpg'\n",
    "test_img_path_3  = '/kaggle/input/fruits/fruits-360_dataset/fruits-360/Test/Tomato not Ripened/r_297_100.jpg'\n",
    "test_img_path_4 = '/kaggle/input/fruits/fruits-360-original-size/fruits-360-original-size/Test/apple_crimson_snow_1/r1_59.jpg'\n",
    "test_img_path_5 = '../input/fakefruit/multiface1.jpg'\n",
    "#result\n",
    "result = predict_image_model(test_img_path_1)#Cherry Wax Red\n",
    "print_result(result)\n",
    "result = predict_image_model(test_img_path_2)#Watermelon\n",
    "print_result(result)\n",
    "result = predict_image_model(test_img_path_3)#Tomato not Ripened\n",
    "print_result(result)\n",
    "result = predict_image_model(test_img_path_4)#apple_crimson_snow_1\n",
    "print_result(result)\n",
    "result = predict_image_model(test_img_path_5)#Not Fruit\n",
    "print_result(result)\n",
    "\n",
    "\n",
    "\n",
    "#print(result)\n",
    "# sorting the list in ascending order\n",
    "#prime_numbers.sort(reverse=True)\n",
    "result.sort()\n",
    "print(result)\n",
    "\n",
    "\n",
    "#print(new_result[0,0])\n",
    "\n",
    "# Output: [2, 3, 5, 7, 11]\n",
    "\n",
    " \n"
   ]
  },
  {
   "cell_type": "markdown",
   "id": "4af23ed8",
   "metadata": {
    "papermill": {
     "duration": 0.285035,
     "end_time": "2022-09-10T21:33:45.592720",
     "exception": false,
     "start_time": "2022-09-10T21:33:45.307685",
     "status": "completed"
    },
    "tags": []
   },
   "source": []
  },
  {
   "cell_type": "code",
   "execution_count": null,
   "id": "59f10bfe",
   "metadata": {
    "papermill": {
     "duration": 0.218854,
     "end_time": "2022-09-10T21:33:46.029016",
     "exception": false,
     "start_time": "2022-09-10T21:33:45.810162",
     "status": "completed"
    },
    "tags": []
   },
   "outputs": [],
   "source": []
  },
  {
   "cell_type": "code",
   "execution_count": 12,
   "id": "2d961a67",
   "metadata": {
    "execution": {
     "iopub.execute_input": "2022-09-10T21:33:46.467874Z",
     "iopub.status.busy": "2022-09-10T21:33:46.467473Z",
     "iopub.status.idle": "2022-09-10T21:33:46.480123Z",
     "shell.execute_reply": "2022-09-10T21:33:46.479133Z"
    },
    "papermill": {
     "duration": 0.236552,
     "end_time": "2022-09-10T21:33:46.482924",
     "exception": false,
     "start_time": "2022-09-10T21:33:46.246372",
     "status": "completed"
    },
    "tags": []
   },
   "outputs": [
    {
     "data": {
      "text/plain": [
       "{'loss': [3.689807415008545,\n",
       "  1.9488458633422852,\n",
       "  1.2287167310714722,\n",
       "  0.9352681636810303,\n",
       "  0.7597568035125732,\n",
       "  0.6442228555679321,\n",
       "  0.5580632090568542,\n",
       "  0.49988457560539246,\n",
       "  0.43742239475250244,\n",
       "  0.40877944231033325,\n",
       "  0.36309102177619934,\n",
       "  0.35392460227012634,\n",
       "  0.3182440996170044,\n",
       "  0.30007344484329224,\n",
       "  0.26998671889305115,\n",
       "  0.2628489136695862,\n",
       "  0.2441740185022354,\n",
       "  0.23858481645584106,\n",
       "  0.21484681963920593,\n",
       "  0.20674307644367218,\n",
       "  0.21410611271858215,\n",
       "  0.194797083735466,\n",
       "  0.18063592910766602,\n",
       "  0.17825594544410706,\n",
       "  0.16530661284923553,\n",
       "  0.16519494354724884,\n",
       "  0.17321333289146423,\n",
       "  0.15305383503437042,\n",
       "  0.14727278053760529,\n",
       "  0.1629665344953537,\n",
       "  0.13610880076885223,\n",
       "  0.1340823918581009,\n",
       "  0.12674351036548615,\n",
       "  0.12049268186092377,\n",
       "  0.14441075921058655,\n",
       "  0.11523023247718811,\n",
       "  0.11097835004329681,\n",
       "  0.11441261321306229,\n",
       "  0.10487740486860275,\n",
       "  0.10817296802997589,\n",
       "  0.10691310465335846,\n",
       "  0.101793572306633,\n",
       "  0.10286196321249008,\n",
       "  0.0945674404501915,\n",
       "  0.0940987691283226,\n",
       "  0.1029568687081337,\n",
       "  0.09583275020122528,\n",
       "  0.08894263952970505,\n",
       "  0.08904045820236206,\n",
       "  0.08306178450584412],\n",
       " 'accuracy': [0.11942761391401291,\n",
       "  0.4298464059829712,\n",
       "  0.6224875450134277,\n",
       "  0.707490861415863,\n",
       "  0.7582048177719116,\n",
       "  0.7924491763114929,\n",
       "  0.8164036870002747,\n",
       "  0.8357532620429993,\n",
       "  0.855117917060852,\n",
       "  0.8646277189254761,\n",
       "  0.8794773817062378,\n",
       "  0.8811123967170715,\n",
       "  0.8929471373558044,\n",
       "  0.9001320004463196,\n",
       "  0.9093568325042725,\n",
       "  0.9117417931556702,\n",
       "  0.9176366329193115,\n",
       "  0.9202015995979309,\n",
       "  0.9275814294815063,\n",
       "  0.9297714233398438,\n",
       "  0.9278214573860168,\n",
       "  0.9338963031768799,\n",
       "  0.9386962056159973,\n",
       "  0.9387712478637695,\n",
       "  0.9445911049842834,\n",
       "  0.9434661269187927,\n",
       "  0.9413361549377441,\n",
       "  0.9486410021781921,\n",
       "  0.9506210088729858,\n",
       "  0.9443361163139343,\n",
       "  0.9528859257698059,\n",
       "  0.9543108940124512,\n",
       "  0.9575047492980957,\n",
       "  0.9586608409881592,\n",
       "  0.9515959620475769,\n",
       "  0.9608357548713684,\n",
       "  0.9622607827186584,\n",
       "  0.9608357548713684,\n",
       "  0.964255690574646,\n",
       "  0.9626807570457458,\n",
       "  0.964225709438324,\n",
       "  0.9662806987762451,\n",
       "  0.9653806686401367,\n",
       "  0.968065619468689,\n",
       "  0.9679156541824341,\n",
       "  0.9643906950950623,\n",
       "  0.9679006338119507,\n",
       "  0.9694756269454956,\n",
       "  0.9694756269454956,\n",
       "  0.9720555543899536],\n",
       " 'val_loss': [2.592556953430176,\n",
       "  1.342330813407898,\n",
       "  1.0175732374191284,\n",
       "  0.8303028345108032,\n",
       "  0.6999945044517517,\n",
       "  0.6946178078651428,\n",
       "  0.6744899749755859,\n",
       "  0.5580477118492126,\n",
       "  0.5415928363800049,\n",
       "  0.5098653435707092,\n",
       "  0.4826057553291321,\n",
       "  0.4643418490886688,\n",
       "  0.4145134687423706,\n",
       "  0.4192536473274231,\n",
       "  0.3775674104690552,\n",
       "  0.44858500361442566,\n",
       "  0.3767191767692566,\n",
       "  0.3514373004436493,\n",
       "  0.3272416293621063,\n",
       "  0.325961172580719,\n",
       "  0.3001907169818878,\n",
       "  0.35134485363960266,\n",
       "  0.3256979286670685,\n",
       "  0.3240050971508026,\n",
       "  0.3438235819339752,\n",
       "  0.33955225348472595,\n",
       "  0.303164541721344,\n",
       "  0.35426661372184753,\n",
       "  0.2997807264328003,\n",
       "  0.2893774211406708,\n",
       "  0.2898440659046173,\n",
       "  0.2841669023036957,\n",
       "  0.24896998703479767,\n",
       "  0.27529212832450867,\n",
       "  0.27925169467926025,\n",
       "  0.25213730335235596,\n",
       "  0.2641064524650574,\n",
       "  0.29774904251098633,\n",
       "  0.2662906050682068,\n",
       "  0.277049720287323,\n",
       "  0.2427975982427597,\n",
       "  0.21989554166793823,\n",
       "  0.2124878317117691,\n",
       "  0.2341873198747635,\n",
       "  0.2355131059885025,\n",
       "  0.24208445847034454,\n",
       "  0.27464377880096436,\n",
       "  0.24574778974056244,\n",
       "  0.24805472791194916,\n",
       "  0.26979005336761475],\n",
       " 'val_accuracy': [0.2614080309867859,\n",
       "  0.6022727489471436,\n",
       "  0.7140003442764282,\n",
       "  0.7611417174339294,\n",
       "  0.8049094676971436,\n",
       "  0.7961647510528564,\n",
       "  0.8134321570396423,\n",
       "  0.8283469676971436,\n",
       "  0.8413973450660706,\n",
       "  0.8655894994735718,\n",
       "  0.8670543432235718,\n",
       "  0.8748224377632141,\n",
       "  0.87939453125,\n",
       "  0.8819246888160706,\n",
       "  0.8914240002632141,\n",
       "  0.8845880627632141,\n",
       "  0.8965287804603577,\n",
       "  0.9042081236839294,\n",
       "  0.9133966565132141,\n",
       "  0.9084250926971436,\n",
       "  0.9161487817764282,\n",
       "  0.9022549986839294,\n",
       "  0.9152166247367859,\n",
       "  0.9207652807235718,\n",
       "  0.9166814684867859,\n",
       "  0.9181463122367859,\n",
       "  0.9206764698028564,\n",
       "  0.9146839380264282,\n",
       "  0.9333274364471436,\n",
       "  0.9249822497367859,\n",
       "  0.9291548132896423,\n",
       "  0.9290660619735718,\n",
       "  0.9326171875,\n",
       "  0.9330167174339294,\n",
       "  0.9317737817764282,\n",
       "  0.9438920617103577,\n",
       "  0.9349698424339294,\n",
       "  0.9345259070396423,\n",
       "  0.9362127184867859,\n",
       "  0.93603515625,\n",
       "  0.9463334679603577,\n",
       "  0.9522371888160706,\n",
       "  0.9500621557235718,\n",
       "  0.9438032507896423,\n",
       "  0.9498401880264282,\n",
       "  0.9493519067764282,\n",
       "  0.9287553429603577,\n",
       "  0.9482421875,\n",
       "  0.9432262182235718,\n",
       "  0.9484197497367859],\n",
       " 'epochs': [1,\n",
       "  2,\n",
       "  3,\n",
       "  4,\n",
       "  5,\n",
       "  6,\n",
       "  7,\n",
       "  8,\n",
       "  9,\n",
       "  10,\n",
       "  11,\n",
       "  12,\n",
       "  13,\n",
       "  14,\n",
       "  15,\n",
       "  16,\n",
       "  17,\n",
       "  18,\n",
       "  19,\n",
       "  20,\n",
       "  21,\n",
       "  22,\n",
       "  23,\n",
       "  24,\n",
       "  25,\n",
       "  26,\n",
       "  27,\n",
       "  28,\n",
       "  29,\n",
       "  30,\n",
       "  31,\n",
       "  32,\n",
       "  33,\n",
       "  34,\n",
       "  35,\n",
       "  36,\n",
       "  37,\n",
       "  38,\n",
       "  39,\n",
       "  40,\n",
       "  41,\n",
       "  42,\n",
       "  43,\n",
       "  44,\n",
       "  45,\n",
       "  46,\n",
       "  47,\n",
       "  48,\n",
       "  49,\n",
       "  50]}"
      ]
     },
     "execution_count": 12,
     "metadata": {},
     "output_type": "execute_result"
    }
   ],
   "source": [
    "data_history = history\n",
    "data_history['epochs']= [i for i in range(1,epochs+1)]\n",
    "data_history"
   ]
  },
  {
   "cell_type": "markdown",
   "id": "8dcdeca6",
   "metadata": {
    "papermill": {
     "duration": 0.216946,
     "end_time": "2022-09-10T21:33:46.917407",
     "exception": false,
     "start_time": "2022-09-10T21:33:46.700461",
     "status": "completed"
    },
    "tags": []
   },
   "source": []
  },
  {
   "cell_type": "code",
   "execution_count": 13,
   "id": "faad4eeb",
   "metadata": {
    "execution": {
     "iopub.execute_input": "2022-09-10T21:33:47.352802Z",
     "iopub.status.busy": "2022-09-10T21:33:47.352341Z",
     "iopub.status.idle": "2022-09-10T21:33:47.569437Z",
     "shell.execute_reply": "2022-09-10T21:33:47.568718Z"
    },
    "id": "PMdBjvxsRYOh",
    "papermill": {
     "duration": 0.436291,
     "end_time": "2022-09-10T21:33:47.571405",
     "exception": false,
     "start_time": "2022-09-10T21:33:47.135114",
     "status": "completed"
    },
    "tags": []
   },
   "outputs": [
    {
     "data": {
      "text/plain": [
       "[<matplotlib.lines.Line2D at 0x7f7921317c90>]"
      ]
     },
     "execution_count": 13,
     "metadata": {},
     "output_type": "execute_result"
    },
    {
     "data": {
      "image/png": "[encoded data removed]",
      "text/plain": [
       "<Figure size 432x288 with 1 Axes>"
      ]
     },
     "metadata": {
      "needs_background": "light"
     },
     "output_type": "display_data"
    }
   ],
   "source": [
    "from matplotlib import pyplot as plt\n",
    "_epochs = data_history['epochs']\n",
    "_loss = data_history['loss']\n",
    "_accuracy = data_history['accuracy']\n",
    "_val_accuracy = data_history['val_accuracy']\n",
    "_val_loss = data_history['val_loss']\n",
    "\n",
    "plt.plot(_epochs,_val_accuracy)\n"
   ]
  },
  {
   "cell_type": "code",
   "execution_count": 14,
   "id": "2d5e2952",
   "metadata": {
    "execution": {
     "iopub.execute_input": "2022-09-10T21:33:48.011915Z",
     "iopub.status.busy": "2022-09-10T21:33:48.011166Z",
     "iopub.status.idle": "2022-09-10T21:33:48.169479Z",
     "shell.execute_reply": "2022-09-10T21:33:48.168424Z"
    },
    "id": "dh9n6Io4RYOi",
    "papermill": {
     "duration": 0.381793,
     "end_time": "2022-09-10T21:33:48.171838",
     "exception": false,
     "start_time": "2022-09-10T21:33:47.790045",
     "status": "completed"
    },
    "tags": []
   },
   "outputs": [
    {
     "data": {
      "text/plain": [
       "[<matplotlib.lines.Line2D at 0x7f79213acb10>]"
      ]
     },
     "execution_count": 14,
     "metadata": {},
     "output_type": "execute_result"
    },
    {
     "data": {
      "image/png": "[encoded data removed]",
      "text/plain": [
       "<Figure size 432x288 with 1 Axes>"
      ]
     },
     "metadata": {
      "needs_background": "light"
     },
     "output_type": "display_data"
    }
   ],
   "source": [
    "plt.plot(_epochs,_accuracy)"
   ]
  },
  {
   "cell_type": "code",
   "execution_count": null,
   "id": "77a677c5",
   "metadata": {
    "id": "YjwcIUfuRYOi",
    "papermill": {
     "duration": 0.289919,
     "end_time": "2022-09-10T21:33:48.683806",
     "exception": false,
     "start_time": "2022-09-10T21:33:48.393887",
     "status": "completed"
    },
    "tags": []
   },
   "outputs": [],
   "source": []
  },
  {
   "cell_type": "code",
   "execution_count": null,
   "id": "95ba69a5",
   "metadata": {
    "id": "11KfCliPRYOi",
    "papermill": {
     "duration": 0.220654,
     "end_time": "2022-09-10T21:33:49.127176",
     "exception": false,
     "start_time": "2022-09-10T21:33:48.906522",
     "status": "completed"
    },
    "tags": []
   },
   "outputs": [],
   "source": []
  },
  {
   "cell_type": "code",
   "execution_count": null,
   "id": "5c12d6d3",
   "metadata": {
    "id": "yZysBgeCRYOi",
    "papermill": {
     "duration": 0.219764,
     "end_time": "2022-09-10T21:33:49.565276",
     "exception": false,
     "start_time": "2022-09-10T21:33:49.345512",
     "status": "completed"
    },
    "tags": []
   },
   "outputs": [],
   "source": []
  },
  {
   "cell_type": "code",
   "execution_count": null,
   "id": "f49a675c",
   "metadata": {
    "id": "VPf-9DtzRYOi",
    "papermill": {
     "duration": 0.233713,
     "end_time": "2022-09-10T21:33:50.016445",
     "exception": false,
     "start_time": "2022-09-10T21:33:49.782732",
     "status": "completed"
    },
    "tags": []
   },
   "outputs": [],
   "source": []
  },
  {
   "cell_type": "code",
   "execution_count": null,
   "id": "c154fb05",
   "metadata": {
    "id": "nApvwqUqRYOj",
    "papermill": {
     "duration": 0.217697,
     "end_time": "2022-09-10T21:33:50.459689",
     "exception": false,
     "start_time": "2022-09-10T21:33:50.241992",
     "status": "completed"
    },
    "tags": []
   },
   "outputs": [],
   "source": []
  }
 ],
 "metadata": {
  "kernelspec": {
   "display_name": "Python 3",
   "language": "python",
   "name": "python3"
  },
  "language_info": {
   "codemirror_mode": {
    "name": "ipython",
    "version": 3
   },
   "file_extension": ".py",
   "mimetype": "text/x-python",
   "name": "python",
   "nbconvert_exporter": "python",
   "pygments_lexer": "ipython3",
   "version": "3.7.12"
  },
  "papermill": {
   "default_parameters": {},
   "duration": 8021.456314,
   "end_time": "2022-09-10T21:33:53.965157",
   "environment_variables": {},
   "exception": null,
   "input_path": "__notebook__.ipynb",
   "output_path": "__notebook__.ipynb",
   "parameters": {},
   "start_time": "2022-09-10T19:20:12.508843",
   "version": "2.3.4"
  }
 },
 "nbformat": 4,
 "nbformat_minor": 5
}
